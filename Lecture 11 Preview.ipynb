{
 "cells": [
  {
   "cell_type": "markdown",
   "metadata": {},
   "source": [
    "# Lecture 11: PDE with Boundary Condition\n",
    "Prof. Flip Tanedo\n",
    "9 May 2017\n",
    "\n",
    "Based on Example 9.1 of Newman, *Computational Physics*"
   ]
  },
  {
   "cell_type": "code",
   "execution_count": 87,
   "metadata": {},
   "outputs": [
    {
     "name": "stdout",
     "output_type": "stream",
     "text": [
      "[[ 1.  1.  1.  1.  1.  1.  1.  1.  1.  1.  1.]\n",
      " [ 0.  0.  0.  0.  0.  0.  0.  0.  0.  0.  0.]\n",
      " [ 0.  0.  0.  0.  0.  0.  0.  0.  0.  0.  0.]\n",
      " [ 0.  0.  0.  0.  0.  0.  0.  0.  0.  0.  0.]\n",
      " [ 0.  0.  0.  0.  0.  0.  0.  0.  0.  0.  0.]\n",
      " [ 0.  0.  0.  0.  0.  0.  0.  0.  0.  0.  0.]\n",
      " [ 0.  0.  0.  0.  0.  0.  0.  0.  0.  0.  0.]\n",
      " [ 0.  0.  0.  0.  0.  0.  0.  0.  0.  0.  0.]\n",
      " [ 0.  0.  0.  0.  0.  0.  0.  0.  0.  0.  0.]\n",
      " [ 0.  0.  0.  0.  0.  0.  0.  0.  0.  0.  0.]\n",
      " [ 0.  0.  0.  0.  0.  0.  0.  0.  0.  0.  0.]]\n",
      "[[ 1.          1.          1.          1.          1.          1.          1.\n",
      "   1.          1.          1.          1.        ]\n",
      " [ 0.          0.47024481  0.63936379  0.70556936  0.73174477  0.73859828\n",
      "   0.73174477  0.70556936  0.63936379  0.47024481  0.        ]\n",
      " [ 0.          0.24690785  0.39114488  0.46488425  0.49809212  0.50774957\n",
      "   0.49809212  0.46488425  0.39114488  0.24690785  0.        ]\n",
      " [ 0.          0.1349887   0.23091758  0.28748279  0.31600021  0.32422606\n",
      "   0.31600021  0.28748279  0.23091758  0.1349887   0.        ]\n",
      " [ 0.          0.07317359  0.12987623  0.16672947  0.18605616  0.19226651\n",
      "   0.18605616  0.16672947  0.12987623  0.07317359  0.        ]\n",
      " [ 0.          0.0379531   0.06893158  0.08981689  0.10160955  0.10510878\n",
      "   0.10160955  0.08981689  0.06893158  0.0379531   0.        ]\n",
      " [ 0.          0.01855567  0.03394265  0.04487363  0.05092293  0.053006\n",
      "   0.05092293  0.04487363  0.03394265  0.01855567  0.        ]\n",
      " [ 0.          0.00835806  0.01547201  0.02046726  0.02345072  0.02431752\n",
      "   0.02345072  0.02046726  0.01547201  0.00835806  0.        ]\n",
      " [ 0.          0.00344606  0.00635055  0.00849211  0.00968282  0.01011854\n",
      "   0.00968282  0.00849211  0.00635055  0.00344606  0.        ]\n",
      " [ 0.          0.00117088  0.00218249  0.00289512  0.00333398  0.00345509\n",
      "   0.00333398  0.00289512  0.00218249  0.00117088  0.        ]\n",
      " [ 0.          0.          0.          0.          0.          0.          0.\n",
      "   0.          0.          0.          0.        ]]\n"
     ]
    }
   ],
   "source": [
    "import numpy as np\n",
    "\n",
    "# Constants\n",
    "M = 10        # grid squares per side\n",
    "V = 1.0        # Voltage at the top\n",
    "target = 1e-2  # target accuracy\n",
    "\n",
    "# arrays\n",
    "phi = np.zeros([M+1,M+1],float) # initialize\n",
    "phi[0,:] = V\n",
    "phiprime = np.zeros([M+1, M+1],float) # container for new values\n",
    "\n",
    "print(phi)\n",
    "\n",
    "# Main Loop\n",
    "delta = 1.0\n",
    "while delta > target:\n",
    "    # calculate new values of the potential\n",
    "\n",
    "    for i in range(M+1):\n",
    "        for j in range(M+1):\n",
    "\n",
    "            # if boundary\n",
    "            if i==0 or i==M or j==0 or j==M:\n",
    "                phiprime[i,j] = phi[i,j]\n",
    "            else:\n",
    "                phiprime[i,j] = (phi[i+1,j] + phi[i-1,j] + phi[i,j+1] + phi[i,j-1])/4.\n",
    "    \n",
    "    # NOTE: indentation is very important!\n",
    "    # convergence check\n",
    "    delta = np.max(np.abs(phi-phiprime))\n",
    "            \n",
    "    # swap arrays\n",
    "    phi, phiprime = phiprime, phi\n",
    "\n",
    "            \n",
    "print(phi)"
   ]
  },
  {
   "cell_type": "code",
   "execution_count": 86,
   "metadata": {},
   "outputs": [
    {
     "data": {
      "image/png": "[encoded data removed]",
      "text/plain": [
       "<matplotlib.figure.Figure at 0x10b63ef60>"
      ]
     },
     "metadata": {},
     "output_type": "display_data"
    }
   ],
   "source": [
    "import matplotlib.pyplot as plt\n",
    "\n",
    "xx, yy = np.meshgrid(np.arange(M+1),np.arange(M+1))\n",
    "plt.pcolormesh(xx,yy,phi)\n",
    "plt.colorbar()\n",
    "plt.show()"
   ]
  },
  {
   "cell_type": "code",
   "execution_count": null,
   "metadata": {
    "collapsed": true
   },
   "outputs": [],
   "source": []
  }
 ],
 "metadata": {
  "kernelspec": {
   "display_name": "Python 3",
   "language": "python",
   "name": "python3"
  },
  "language_info": {
   "codemirror_mode": {
    "name": "ipython",
    "version": 3
   },
   "file_extension": ".py",
   "mimetype": "text/x-python",
   "name": "python",
   "nbconvert_exporter": "python",
   "pygments_lexer": "ipython3",
   "version": "3.4.3"
  }
 },
 "nbformat": 4,
 "nbformat_minor": 2
}
